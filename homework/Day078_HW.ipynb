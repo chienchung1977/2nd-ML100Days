{
 "cells": [
  {
   "cell_type": "markdown",
   "metadata": {},
   "source": [
    "## Work\n",
    "1. 請嘗試將 preproc_x 替換成以每筆資料的 min/max 進行標準化至 -1 ~ 1 間，再進行訓練\n",
    "2. 請嘗試將 mlp 疊更深 (e.g 5~10 層)，進行訓練後觀察 learning curve 的走勢\n",
    "3. (optional) 請改用 GPU 進行訓練 (如果你有 GPU 的話)，比較使用 CPU 與 GPU 的訓練速度"
   ]
  },
  {
   "cell_type": "code",
   "execution_count": 1,
   "metadata": {},
   "outputs": [],
   "source": [
    "## \n",
    "\"\"\"\n",
    "Your code here (optional)\n",
    "確認硬體資源\n",
    "\"\"\"\n"
   ]
  },
  {
   "cell_type": "code",
   "execution_count": 1,
   "metadata": {},
   "outputs": [
    {
     "name": "stderr",
     "output_type": "stream",
     "text": [
      "Using TensorFlow backend.\n"
     ]
    }
   ],
   "source": [
    "import os\n",
    "import keras\n",
    "\n",
    "# 請嘗試設定 GPU：os.environ\n",
    "os.environ[\"CUDA_VISIBLE_DEVICES\"] = \"0\"\n"
   ]
  },
  {
   "cell_type": "code",
   "execution_count": 2,
   "metadata": {},
   "outputs": [],
   "source": [
    "train, test = keras.datasets.cifar10.load_data()"
   ]
  },
  {
   "cell_type": "code",
   "execution_count": 4,
   "metadata": {},
   "outputs": [],
   "source": [
    "## 資料前處理\n",
    "\"\"\"\n",
    "Your code here\n",
    "\"\"\"\n",
    "def preproc_x(x, flatten=True):\n",
    "    x = x / 255.\n",
    "    if flatten:\n",
    "        x = x.reshape((len(x), -1))\n",
    "    return x\n",
    "\n",
    "def preproc_y(y, num_classes=10):\n",
    "    if y.shape[-1] == 1:\n",
    "        y = keras.utils.to_categorical(y, num_classes)\n",
    "    return y"
   ]
  },
  {
   "cell_type": "code",
   "execution_count": 5,
   "metadata": {},
   "outputs": [],
   "source": [
    "x_train, y_train = train\n",
    "x_test, y_test = test\n",
    "\n",
    "# Preproc the inputs\n",
    "x_train = preproc_x(x_train)\n",
    "x_test = preproc_x(x_test)\n",
    "\n",
    "# Preprc the outputs\n",
    "y_train = preproc_y(y_train)\n",
    "y_test = preproc_y(y_test)"
   ]
  },
  {
   "cell_type": "code",
   "execution_count": 6,
   "metadata": {},
   "outputs": [
    {
     "data": {
      "text/plain": [
       "(50000, 3072)"
      ]
     },
     "execution_count": 6,
     "metadata": {},
     "output_type": "execute_result"
    }
   ],
   "source": [
    "x_train.shape"
   ]
  },
  {
   "cell_type": "code",
   "execution_count": 7,
   "metadata": {},
   "outputs": [],
   "source": [
    "\"\"\"Code Here\n",
    "建立你的神經網路\n",
    "\"\"\"\n",
    "def build_mlp(input_shape, output_units=10, num_neurons=[512, 256, 128, 64, 32]):\n",
    "    input_layer = keras.layers.Input(input_shape)\n",
    "    \n",
    "    for i, n_units in enumerate(num_neurons):\n",
    "        if i == 0:\n",
    "            x = keras.layers.Dense(units=n_units, activation=\"relu\", name=\"hidden_layer\"+str(i+1))(input_layer)\n",
    "        else:\n",
    "            x = keras.layers.Dense(units=n_units, activation=\"relu\", name=\"hidden_layer\"+str(i+1))(x)\n",
    "    \n",
    "    out = keras.layers.Dense(units=output_units, activation=\"softmax\", name=\"output\")(x)\n",
    "    \n",
    "    model = keras.models.Model(inputs=[input_layer], outputs=[out])\n",
    "    return model"
   ]
  },
  {
   "cell_type": "code",
   "execution_count": 8,
   "metadata": {},
   "outputs": [
    {
     "name": "stdout",
     "output_type": "stream",
     "text": [
      "WARNING:tensorflow:From C:\\Users\\acer\\Anaconda3\\lib\\site-packages\\tensorflow\\python\\framework\\op_def_library.py:263: colocate_with (from tensorflow.python.framework.ops) is deprecated and will be removed in a future version.\n",
      "Instructions for updating:\n",
      "Colocations handled automatically by placer.\n",
      "_________________________________________________________________\n",
      "Layer (type)                 Output Shape              Param #   \n",
      "=================================================================\n",
      "input_1 (InputLayer)         (None, 3072)              0         \n",
      "_________________________________________________________________\n",
      "hidden_layer1 (Dense)        (None, 512)               1573376   \n",
      "_________________________________________________________________\n",
      "hidden_layer2 (Dense)        (None, 256)               131328    \n",
      "_________________________________________________________________\n",
      "hidden_layer3 (Dense)        (None, 128)               32896     \n",
      "_________________________________________________________________\n",
      "hidden_layer4 (Dense)        (None, 64)                8256      \n",
      "_________________________________________________________________\n",
      "hidden_layer5 (Dense)        (None, 32)                2080      \n",
      "_________________________________________________________________\n",
      "output (Dense)               (None, 10)                330       \n",
      "=================================================================\n",
      "Total params: 1,748,266\n",
      "Trainable params: 1,748,266\n",
      "Non-trainable params: 0\n",
      "_________________________________________________________________\n"
     ]
    }
   ],
   "source": [
    "model = build_mlp(input_shape=x_train.shape[1:])\n",
    "model.summary()"
   ]
  },
  {
   "cell_type": "code",
   "execution_count": 9,
   "metadata": {},
   "outputs": [],
   "source": [
    "## 超參數設定\n",
    "LEARNING_RATE = 0.001\n",
    "EPOCHS = 100\n",
    "BATCH_SIZE = 256"
   ]
  },
  {
   "cell_type": "code",
   "execution_count": 10,
   "metadata": {},
   "outputs": [],
   "source": [
    "optimizer = keras.optimizers.Adam(lr=LEARNING_RATE)\n",
    "model.compile(loss=\"categorical_crossentropy\", metrics=[\"accuracy\"], optimizer=optimizer)"
   ]
  },
  {
   "cell_type": "code",
   "execution_count": 11,
   "metadata": {},
   "outputs": [
    {
     "name": "stdout",
     "output_type": "stream",
     "text": [
      "WARNING:tensorflow:From C:\\Users\\acer\\Anaconda3\\lib\\site-packages\\tensorflow\\python\\ops\\math_ops.py:3066: to_int32 (from tensorflow.python.ops.math_ops) is deprecated and will be removed in a future version.\n",
      "Instructions for updating:\n",
      "Use tf.cast instead.\n",
      "Train on 50000 samples, validate on 10000 samples\n",
      "Epoch 1/100\n",
      "50000/50000 [==============================] - 81s 2ms/step - loss: 2.1128 - acc: 0.2021 - val_loss: 1.9047 - val_acc: 0.3011\n",
      "Epoch 2/100\n",
      "50000/50000 [==============================] - 73s 1ms/step - loss: 1.8273 - acc: 0.3322 - val_loss: 1.7616 - val_acc: 0.3523\n",
      "Epoch 3/100\n",
      "50000/50000 [==============================] - 73s 1ms/step - loss: 1.7265 - acc: 0.3730 - val_loss: 1.6827 - val_acc: 0.3922\n",
      "Epoch 4/100\n",
      "50000/50000 [==============================] - 62s 1ms/step - loss: 1.6317 - acc: 0.4146 - val_loss: 1.6762 - val_acc: 0.4019\n",
      "Epoch 5/100\n",
      "50000/50000 [==============================] - 76s 2ms/step - loss: 1.5727 - acc: 0.4343 - val_loss: 1.6129 - val_acc: 0.4258\n",
      "Epoch 6/100\n",
      "50000/50000 [==============================] - 64s 1ms/step - loss: 1.5220 - acc: 0.4548 - val_loss: 1.6170 - val_acc: 0.4258\n",
      "Epoch 7/100\n",
      "50000/50000 [==============================] - 62s 1ms/step - loss: 1.4783 - acc: 0.4707 - val_loss: 1.4756 - val_acc: 0.4773\n",
      "Epoch 8/100\n",
      "50000/50000 [==============================] - 72s 1ms/step - loss: 1.4467 - acc: 0.4832 - val_loss: 1.4795 - val_acc: 0.4766\n",
      "Epoch 9/100\n",
      "50000/50000 [==============================] - 70s 1ms/step - loss: 1.4159 - acc: 0.4950 - val_loss: 1.4624 - val_acc: 0.4780\n",
      "Epoch 10/100\n",
      "50000/50000 [==============================] - 69s 1ms/step - loss: 1.3824 - acc: 0.5066 - val_loss: 1.4545 - val_acc: 0.4863\n",
      "Epoch 11/100\n",
      "50000/50000 [==============================] - 70s 1ms/step - loss: 1.3597 - acc: 0.5133 - val_loss: 1.4814 - val_acc: 0.4772\n",
      "Epoch 12/100\n",
      "50000/50000 [==============================] - 67s 1ms/step - loss: 1.3357 - acc: 0.5222 - val_loss: 1.4559 - val_acc: 0.4919\n",
      "Epoch 13/100\n",
      "50000/50000 [==============================] - 59s 1ms/step - loss: 1.3141 - acc: 0.5296 - val_loss: 1.4531 - val_acc: 0.4905\n",
      "Epoch 14/100\n",
      "50000/50000 [==============================] - 71s 1ms/step - loss: 1.2800 - acc: 0.5441 - val_loss: 1.3836 - val_acc: 0.5108\n",
      "Epoch 15/100\n",
      "50000/50000 [==============================] - 79s 2ms/step - loss: 1.2626 - acc: 0.5497 - val_loss: 1.3935 - val_acc: 0.5055\n",
      "Epoch 16/100\n",
      "50000/50000 [==============================] - 75s 2ms/step - loss: 1.2419 - acc: 0.5551 - val_loss: 1.4173 - val_acc: 0.5006\n",
      "Epoch 17/100\n",
      "50000/50000 [==============================] - 67s 1ms/step - loss: 1.2196 - acc: 0.5662 - val_loss: 1.3664 - val_acc: 0.5197\n",
      "Epoch 18/100\n",
      "50000/50000 [==============================] - 60s 1ms/step - loss: 1.1995 - acc: 0.5715 - val_loss: 1.3674 - val_acc: 0.5187\n",
      "Epoch 19/100\n",
      "50000/50000 [==============================] - 56s 1ms/step - loss: 1.1873 - acc: 0.5763 - val_loss: 1.3884 - val_acc: 0.5118\n",
      "Epoch 20/100\n",
      "50000/50000 [==============================] - 55s 1ms/step - loss: 1.1654 - acc: 0.5815 - val_loss: 1.3896 - val_acc: 0.5161\n",
      "Epoch 21/100\n",
      "50000/50000 [==============================] - 54s 1ms/step - loss: 1.1410 - acc: 0.5917 - val_loss: 1.3819 - val_acc: 0.5189\n",
      "Epoch 22/100\n",
      "50000/50000 [==============================] - 47s 938us/step - loss: 1.1162 - acc: 0.6013 - val_loss: 1.3580 - val_acc: 0.5289\n",
      "Epoch 23/100\n",
      "50000/50000 [==============================] - 53s 1ms/step - loss: 1.0962 - acc: 0.6077 - val_loss: 1.3911 - val_acc: 0.5161\n",
      "Epoch 24/100\n",
      "50000/50000 [==============================] - 59s 1ms/step - loss: 1.0796 - acc: 0.6145 - val_loss: 1.3651 - val_acc: 0.5253\n",
      "Epoch 25/100\n",
      "50000/50000 [==============================] - 55s 1ms/step - loss: 1.0507 - acc: 0.6267 - val_loss: 1.4187 - val_acc: 0.5152\n",
      "Epoch 26/100\n",
      "50000/50000 [==============================] - 55s 1ms/step - loss: 1.0384 - acc: 0.6286 - val_loss: 1.4156 - val_acc: 0.5173\n",
      "Epoch 27/100\n",
      "50000/50000 [==============================] - 53s 1ms/step - loss: 1.0270 - acc: 0.6323 - val_loss: 1.4123 - val_acc: 0.5214\n",
      "Epoch 28/100\n",
      "50000/50000 [==============================] - 53s 1ms/step - loss: 1.0114 - acc: 0.6375 - val_loss: 1.4873 - val_acc: 0.5132\n",
      "Epoch 29/100\n",
      "50000/50000 [==============================] - 56s 1ms/step - loss: 0.9838 - acc: 0.6484 - val_loss: 1.4212 - val_acc: 0.5294\n",
      "Epoch 30/100\n",
      "50000/50000 [==============================] - 52s 1ms/step - loss: 0.9663 - acc: 0.6541 - val_loss: 1.4178 - val_acc: 0.5247\n",
      "Epoch 31/100\n",
      "50000/50000 [==============================] - 52s 1ms/step - loss: 0.9535 - acc: 0.6564 - val_loss: 1.4704 - val_acc: 0.5214\n",
      "Epoch 32/100\n",
      "50000/50000 [==============================] - 53s 1ms/step - loss: 0.9333 - acc: 0.6662 - val_loss: 1.4407 - val_acc: 0.5252\n",
      "Epoch 33/100\n",
      "50000/50000 [==============================] - 52s 1ms/step - loss: 0.9301 - acc: 0.6668 - val_loss: 1.4732 - val_acc: 0.5220\n",
      "Epoch 34/100\n",
      "50000/50000 [==============================] - 52s 1ms/step - loss: 0.8984 - acc: 0.6765 - val_loss: 1.4790 - val_acc: 0.5286\n",
      "Epoch 35/100\n",
      "50000/50000 [==============================] - 51s 1ms/step - loss: 0.8935 - acc: 0.6808 - val_loss: 1.4815 - val_acc: 0.5266\n",
      "Epoch 36/100\n",
      "50000/50000 [==============================] - 53s 1ms/step - loss: 0.8629 - acc: 0.6900 - val_loss: 1.5334 - val_acc: 0.5167\n",
      "Epoch 37/100\n",
      "50000/50000 [==============================] - 53s 1ms/step - loss: 0.8458 - acc: 0.6964 - val_loss: 1.5182 - val_acc: 0.5147\n",
      "Epoch 38/100\n",
      "50000/50000 [==============================] - 54s 1ms/step - loss: 0.8364 - acc: 0.6990 - val_loss: 1.5491 - val_acc: 0.5113\n",
      "Epoch 39/100\n",
      "50000/50000 [==============================] - 55s 1ms/step - loss: 0.8303 - acc: 0.7025 - val_loss: 1.5145 - val_acc: 0.5244\n",
      "Epoch 40/100\n",
      "50000/50000 [==============================] - 56s 1ms/step - loss: 0.8039 - acc: 0.7111 - val_loss: 1.6725 - val_acc: 0.5068\n",
      "Epoch 41/100\n",
      "50000/50000 [==============================] - 52s 1ms/step - loss: 0.7917 - acc: 0.7155 - val_loss: 1.5615 - val_acc: 0.5256\n",
      "Epoch 42/100\n",
      "50000/50000 [==============================] - 50s 999us/step - loss: 0.7706 - acc: 0.7236 - val_loss: 1.5755 - val_acc: 0.5180\n",
      "Epoch 43/100\n",
      "50000/50000 [==============================] - 50s 993us/step - loss: 0.7670 - acc: 0.7239 - val_loss: 1.6187 - val_acc: 0.5228\n",
      "Epoch 44/100\n",
      "50000/50000 [==============================] - 56s 1ms/step - loss: 0.7462 - acc: 0.7344 - val_loss: 1.6495 - val_acc: 0.5206\n",
      "Epoch 45/100\n",
      "50000/50000 [==============================] - 50s 1ms/step - loss: 0.7389 - acc: 0.7348 - val_loss: 1.6578 - val_acc: 0.5124\n",
      "Epoch 46/100\n",
      "50000/50000 [==============================] - 53s 1ms/step - loss: 0.7055 - acc: 0.7477 - val_loss: 1.7098 - val_acc: 0.5019\n",
      "Epoch 47/100\n",
      "50000/50000 [==============================] - 50s 1ms/step - loss: 0.7166 - acc: 0.7430 - val_loss: 1.7336 - val_acc: 0.5167\n",
      "Epoch 48/100\n",
      "50000/50000 [==============================] - 54s 1ms/step - loss: 0.6725 - acc: 0.7583 - val_loss: 1.7150 - val_acc: 0.5242\n",
      "Epoch 49/100\n",
      "50000/50000 [==============================] - 50s 1ms/step - loss: 0.6924 - acc: 0.7507 - val_loss: 1.7171 - val_acc: 0.5135\n",
      "Epoch 50/100\n",
      "50000/50000 [==============================] - 51s 1ms/step - loss: 0.6764 - acc: 0.7579 - val_loss: 1.7468 - val_acc: 0.5181\n",
      "Epoch 51/100\n",
      "50000/50000 [==============================] - 51s 1ms/step - loss: 0.6505 - acc: 0.7678 - val_loss: 1.8353 - val_acc: 0.5152\n",
      "Epoch 52/100\n",
      "50000/50000 [==============================] - 50s 1ms/step - loss: 0.6586 - acc: 0.7616 - val_loss: 1.8221 - val_acc: 0.5082\n",
      "Epoch 53/100\n",
      "50000/50000 [==============================] - 49s 977us/step - loss: 0.6298 - acc: 0.7727 - val_loss: 1.8963 - val_acc: 0.5164\n",
      "Epoch 54/100\n",
      "50000/50000 [==============================] - 53s 1ms/step - loss: 0.6165 - acc: 0.7784 - val_loss: 1.9719 - val_acc: 0.5098\n",
      "Epoch 55/100\n",
      "50000/50000 [==============================] - 55s 1ms/step - loss: 0.6127 - acc: 0.7786 - val_loss: 1.8728 - val_acc: 0.5197\n",
      "Epoch 56/100\n",
      "50000/50000 [==============================] - 50s 1ms/step - loss: 0.5915 - acc: 0.7880 - val_loss: 1.8992 - val_acc: 0.5182\n",
      "Epoch 57/100\n",
      "50000/50000 [==============================] - 56s 1ms/step - loss: 0.5880 - acc: 0.7874 - val_loss: 2.0013 - val_acc: 0.5116\n"
     ]
    },
    {
     "name": "stdout",
     "output_type": "stream",
     "text": [
      "Epoch 58/100\n",
      "50000/50000 [==============================] - 61s 1ms/step - loss: 0.6018 - acc: 0.7825 - val_loss: 1.9790 - val_acc: 0.5143\n",
      "Epoch 59/100\n",
      "50000/50000 [==============================] - 53s 1ms/step - loss: 0.5681 - acc: 0.7961 - val_loss: 1.9865 - val_acc: 0.5096\n",
      "Epoch 60/100\n",
      "50000/50000 [==============================] - 56s 1ms/step - loss: 0.5523 - acc: 0.8031 - val_loss: 2.0801 - val_acc: 0.5200\n",
      "Epoch 61/100\n",
      "50000/50000 [==============================] - 51s 1ms/step - loss: 0.5544 - acc: 0.8006 - val_loss: 2.0804 - val_acc: 0.5053\n",
      "Epoch 62/100\n",
      "50000/50000 [==============================] - 51s 1ms/step - loss: 0.5208 - acc: 0.8127 - val_loss: 2.0726 - val_acc: 0.5174\n",
      "Epoch 63/100\n",
      "50000/50000 [==============================] - 50s 1ms/step - loss: 0.5119 - acc: 0.8165 - val_loss: 2.1808 - val_acc: 0.5041\n",
      "Epoch 64/100\n",
      "50000/50000 [==============================] - 54s 1ms/step - loss: 0.5189 - acc: 0.8135 - val_loss: 2.1467 - val_acc: 0.5066\n",
      "Epoch 65/100\n",
      "50000/50000 [==============================] - 53s 1ms/step - loss: 0.5192 - acc: 0.8140 - val_loss: 2.1620 - val_acc: 0.5051\n",
      "Epoch 66/100\n",
      "50000/50000 [==============================] - 57s 1ms/step - loss: 0.5022 - acc: 0.8202 - val_loss: 2.1255 - val_acc: 0.5094\n",
      "Epoch 67/100\n",
      "50000/50000 [==============================] - 49s 975us/step - loss: 0.4960 - acc: 0.8228 - val_loss: 2.2871 - val_acc: 0.5077\n",
      "Epoch 68/100\n",
      "50000/50000 [==============================] - 53s 1ms/step - loss: 0.4833 - acc: 0.8267 - val_loss: 2.2604 - val_acc: 0.5054\n",
      "Epoch 69/100\n",
      "50000/50000 [==============================] - 53s 1ms/step - loss: 0.4847 - acc: 0.8260 - val_loss: 2.2728 - val_acc: 0.5074\n",
      "Epoch 70/100\n",
      "50000/50000 [==============================] - 54s 1ms/step - loss: 0.4938 - acc: 0.8231 - val_loss: 2.2640 - val_acc: 0.5028\n",
      "Epoch 71/100\n",
      "50000/50000 [==============================] - 55s 1ms/step - loss: 0.4631 - acc: 0.8323 - val_loss: 2.2823 - val_acc: 0.5054\n",
      "Epoch 72/100\n",
      "50000/50000 [==============================] - 64s 1ms/step - loss: 0.4608 - acc: 0.8349 - val_loss: 2.3460 - val_acc: 0.5029\n",
      "Epoch 73/100\n",
      "50000/50000 [==============================] - 70s 1ms/step - loss: 0.4528 - acc: 0.8387 - val_loss: 2.3682 - val_acc: 0.5039\n",
      "Epoch 74/100\n",
      "50000/50000 [==============================] - 67s 1ms/step - loss: 0.4547 - acc: 0.8364 - val_loss: 2.4321 - val_acc: 0.5076\n",
      "Epoch 75/100\n",
      "50000/50000 [==============================] - 76s 2ms/step - loss: 0.4515 - acc: 0.8372 - val_loss: 2.3632 - val_acc: 0.5007\n",
      "Epoch 76/100\n",
      "50000/50000 [==============================] - 61s 1ms/step - loss: 0.4530 - acc: 0.8374 - val_loss: 2.5078 - val_acc: 0.5005\n",
      "Epoch 77/100\n",
      "50000/50000 [==============================] - 64s 1ms/step - loss: 0.4248 - acc: 0.8481 - val_loss: 2.5382 - val_acc: 0.5021\n",
      "Epoch 78/100\n",
      "50000/50000 [==============================] - 61s 1ms/step - loss: 0.4079 - acc: 0.8535 - val_loss: 2.5688 - val_acc: 0.4989\n",
      "Epoch 79/100\n",
      "50000/50000 [==============================] - 56s 1ms/step - loss: 0.4011 - acc: 0.8555 - val_loss: 2.5224 - val_acc: 0.5026\n",
      "Epoch 80/100\n",
      "50000/50000 [==============================] - 51s 1ms/step - loss: 0.4175 - acc: 0.8500 - val_loss: 2.5381 - val_acc: 0.5053\n",
      "Epoch 81/100\n",
      "50000/50000 [==============================] - 53s 1ms/step - loss: 0.4186 - acc: 0.8487 - val_loss: 2.5452 - val_acc: 0.4997\n",
      "Epoch 82/100\n",
      "50000/50000 [==============================] - 52s 1ms/step - loss: 0.3973 - acc: 0.8556 - val_loss: 2.7590 - val_acc: 0.4993\n",
      "Epoch 83/100\n",
      "50000/50000 [==============================] - 53s 1ms/step - loss: 0.4115 - acc: 0.8519 - val_loss: 2.5599 - val_acc: 0.5058\n",
      "Epoch 84/100\n",
      "50000/50000 [==============================] - 55s 1ms/step - loss: 0.3888 - acc: 0.8608 - val_loss: 2.6757 - val_acc: 0.5042\n",
      "Epoch 85/100\n",
      "50000/50000 [==============================] - 54s 1ms/step - loss: 0.3784 - acc: 0.8646 - val_loss: 2.6673 - val_acc: 0.4940\n",
      "Epoch 86/100\n",
      "50000/50000 [==============================] - 55s 1ms/step - loss: 0.3857 - acc: 0.8626 - val_loss: 2.6709 - val_acc: 0.4942\n",
      "Epoch 87/100\n",
      "50000/50000 [==============================] - 58s 1ms/step - loss: 0.3582 - acc: 0.8721 - val_loss: 2.7646 - val_acc: 0.5033\n",
      "Epoch 88/100\n",
      "50000/50000 [==============================] - 55s 1ms/step - loss: 0.3615 - acc: 0.8707 - val_loss: 2.8135 - val_acc: 0.4964\n",
      "Epoch 89/100\n",
      "50000/50000 [==============================] - 55s 1ms/step - loss: 0.3811 - acc: 0.8620 - val_loss: 2.7674 - val_acc: 0.4992\n",
      "Epoch 90/100\n",
      "50000/50000 [==============================] - 52s 1ms/step - loss: 0.3645 - acc: 0.8691 - val_loss: 2.7273 - val_acc: 0.4991\n",
      "Epoch 91/100\n",
      "50000/50000 [==============================] - 53s 1ms/step - loss: 0.3564 - acc: 0.8728 - val_loss: 2.7867 - val_acc: 0.5056\n",
      "Epoch 92/100\n",
      "50000/50000 [==============================] - 55s 1ms/step - loss: 0.3687 - acc: 0.8672 - val_loss: 2.7910 - val_acc: 0.5010\n",
      "Epoch 93/100\n",
      "50000/50000 [==============================] - 58s 1ms/step - loss: 0.3770 - acc: 0.8637 - val_loss: 2.8137 - val_acc: 0.4980\n",
      "Epoch 94/100\n",
      "50000/50000 [==============================] - 54s 1ms/step - loss: 0.3353 - acc: 0.8799 - val_loss: 2.8927 - val_acc: 0.4970\n",
      "Epoch 95/100\n",
      "50000/50000 [==============================] - 53s 1ms/step - loss: 0.3585 - acc: 0.8718 - val_loss: 2.9313 - val_acc: 0.5011\n",
      "Epoch 96/100\n",
      "50000/50000 [==============================] - 53s 1ms/step - loss: 0.3438 - acc: 0.8761 - val_loss: 2.9526 - val_acc: 0.5033\n",
      "Epoch 97/100\n",
      "50000/50000 [==============================] - 48s 955us/step - loss: 0.3396 - acc: 0.8770 - val_loss: 2.8200 - val_acc: 0.5017\n",
      "Epoch 98/100\n",
      "50000/50000 [==============================] - 55s 1ms/step - loss: 0.3299 - acc: 0.8815 - val_loss: 3.0007 - val_acc: 0.5042\n",
      "Epoch 99/100\n",
      "50000/50000 [==============================] - 55s 1ms/step - loss: 0.3192 - acc: 0.8850 - val_loss: 2.9364 - val_acc: 0.5020\n",
      "Epoch 100/100\n",
      "50000/50000 [==============================] - 57s 1ms/step - loss: 0.3178 - acc: 0.8852 - val_loss: 3.0466 - val_acc: 0.4964\n"
     ]
    },
    {
     "data": {
      "text/plain": [
       "<keras.callbacks.History at 0xb68127ec88>"
      ]
     },
     "execution_count": 11,
     "metadata": {},
     "output_type": "execute_result"
    }
   ],
   "source": [
    "model.fit(x_train, y_train, \n",
    "          epochs=EPOCHS, \n",
    "          batch_size=BATCH_SIZE, \n",
    "          validation_data=(x_test, y_test), \n",
    "          shuffle=True)"
   ]
  },
  {
   "cell_type": "code",
   "execution_count": 13,
   "metadata": {},
   "outputs": [
    {
     "data": {
      "image/png": "[encoded data removed]",
      "text/plain": [
       "<Figure size 432x288 with 1 Axes>"
      ]
     },
     "metadata": {
      "needs_background": "light"
     },
     "output_type": "display_data"
    },
    {
     "data": {
      "image/png": "[encoded data removed]",
      "text/plain": [
       "<Figure size 432x288 with 1 Axes>"
      ]
     },
     "metadata": {
      "needs_background": "light"
     },
     "output_type": "display_data"
    }
   ],
   "source": [
    "import matplotlib.pyplot as plt\n",
    "\n",
    "\n",
    "train_loss = model.history.history[\"loss\"]\n",
    "valid_loss = model.history.history[\"val_loss\"]\n",
    "\n",
    "train_acc = model.history.history[\"acc\"]\n",
    "valid_acc = model.history.history[\"val_acc\"]\n",
    "\n",
    "plt.plot(range(len(train_loss)), train_loss, label=\"train loss\")\n",
    "plt.plot(range(len(valid_loss)), valid_loss, label=\"valid loss\")\n",
    "plt.legend()\n",
    "plt.title(\"Loss\")\n",
    "plt.show()\n",
    "\n",
    "plt.plot(range(len(train_acc)), train_acc, label=\"train accuracy\")\n",
    "plt.plot(range(len(valid_acc)), valid_acc, label=\"valid accuracy\")\n",
    "plt.legend()\n",
    "plt.title(\"Accuracy\")\n",
    "plt.show()"
   ]
  },
  {
   "cell_type": "code",
   "execution_count": null,
   "metadata": {},
   "outputs": [],
   "source": []
  }
 ],
 "metadata": {
  "kernelspec": {
   "display_name": "Python 3",
   "language": "python",
   "name": "python3"
  },
  "language_info": {
   "codemirror_mode": {
    "name": "ipython",
    "version": 3
   },
   "file_extension": ".py",
   "mimetype": "text/x-python",
   "name": "python",
   "nbconvert_exporter": "python",
   "pygments_lexer": "ipython3",
   "version": "3.7.0"
  },
  "toc": {
   "base_numbering": 1,
   "nav_menu": {},
   "number_sections": true,
   "sideBar": true,
   "skip_h1_title": false,
   "title_cell": "Table of Contents",
   "title_sidebar": "Contents",
   "toc_cell": false,
   "toc_position": {},
   "toc_section_display": true,
   "toc_window_display": false
  },
  "varInspector": {
   "cols": {
    "lenName": 16,
    "lenType": 16,
    "lenVar": 40
   },
   "kernels_config": {
    "python": {
     "delete_cmd_postfix": "",
     "delete_cmd_prefix": "del ",
     "library": "var_list.py",
     "varRefreshCmd": "print(var_dic_list())"
    },
    "r": {
     "delete_cmd_postfix": ") ",
     "delete_cmd_prefix": "rm(",
     "library": "var_list.r",
     "varRefreshCmd": "cat(var_dic_list()) "
    }
   },
   "types_to_exclude": [
    "module",
    "function",
    "builtin_function_or_method",
    "instance",
    "_Feature"
   ],
   "window_display": false
  }
 },
 "nbformat": 4,
 "nbformat_minor": 2
}
