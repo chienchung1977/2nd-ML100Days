{
 "cells": [
  {
   "cell_type": "markdown",
   "metadata": {},
   "source": [
    "## [作業重點]\n",
    "確保你了解隨機森林模型中每個超參數的意義，並觀察調整超參數對結果的影響"
   ]
  },
  {
   "cell_type": "markdown",
   "metadata": {},
   "source": [
    "## 作業\n",
    "\n",
    "1. 試著調整 RandomForestClassifier(...) 中的參數，並觀察是否會改變結果？\n",
    "2. 改用其他資料集 (boston, wine)，並與回歸模型與決策樹的結果進行比較"
   ]
  },
  {
   "cell_type": "code",
   "execution_count": 18,
   "metadata": {},
   "outputs": [],
   "source": [
    "from sklearn import datasets, metrics\n",
    "from sklearn.ensemble import RandomForestClassifier\n",
    "from sklearn.model_selection import train_test_split, GridSearchCV"
   ]
  },
  {
   "cell_type": "code",
   "execution_count": 19,
   "metadata": {},
   "outputs": [],
   "source": [
    "# 讀取wine資料集\n",
    "wine = datasets.load_wine()\n",
    "\n",
    "# 切分訓練集/測試集\n",
    "x_train, x_test, y_train, y_test = train_test_split(wine.data, wine.target, test_size=0.25, random_state=4)\n"
   ]
  },
  {
   "cell_type": "code",
   "execution_count": 23,
   "metadata": {},
   "outputs": [],
   "source": [
    "# 建立模型 \n",
    "rfc = RandomForestClassifier(random_state=4)\n"
   ]
  },
  {
   "cell_type": "code",
   "execution_count": 24,
   "metadata": {},
   "outputs": [],
   "source": [
    "param_grid = { \n",
    "    'n_estimators': [20, 40, 80],\n",
    "    'max_features': ['auto', 'sqrt', 'log2'],\n",
    "    'max_depth' : [4,5,6],\n",
    "    'criterion' :['gini', 'entropy']\n",
    "}"
   ]
  },
  {
   "cell_type": "code",
   "execution_count": 46,
   "metadata": {},
   "outputs": [
    {
     "name": "stderr",
     "output_type": "stream",
     "text": [
      "C:\\Users\\acer\\Anaconda3\\lib\\site-packages\\sklearn\\model_selection\\_search.py:762: DeprecationWarning: The grid_scores_ attribute was deprecated in version 0.18 in favor of the more elaborate cv_results_ attribute. The grid_scores_ attribute will not be available from 0.20\n",
      "  DeprecationWarning)\n"
     ]
    },
    {
     "data": {
      "text/plain": [
       "([mean: 0.97744, std: 0.03051, params: {'criterion': 'gini', 'max_depth': 4, 'max_features': 'auto', 'n_estimators': 20},\n",
       "  mean: 0.97744, std: 0.03051, params: {'criterion': 'gini', 'max_depth': 4, 'max_features': 'auto', 'n_estimators': 40},\n",
       "  mean: 0.98496, std: 0.01819, params: {'criterion': 'gini', 'max_depth': 4, 'max_features': 'auto', 'n_estimators': 80},\n",
       "  mean: 0.97744, std: 0.03051, params: {'criterion': 'gini', 'max_depth': 4, 'max_features': 'sqrt', 'n_estimators': 20},\n",
       "  mean: 0.97744, std: 0.03051, params: {'criterion': 'gini', 'max_depth': 4, 'max_features': 'sqrt', 'n_estimators': 40},\n",
       "  mean: 0.98496, std: 0.01819, params: {'criterion': 'gini', 'max_depth': 4, 'max_features': 'sqrt', 'n_estimators': 80},\n",
       "  mean: 0.97744, std: 0.03051, params: {'criterion': 'gini', 'max_depth': 4, 'max_features': 'log2', 'n_estimators': 20},\n",
       "  mean: 0.97744, std: 0.03051, params: {'criterion': 'gini', 'max_depth': 4, 'max_features': 'log2', 'n_estimators': 40},\n",
       "  mean: 0.98496, std: 0.01819, params: {'criterion': 'gini', 'max_depth': 4, 'max_features': 'log2', 'n_estimators': 80},\n",
       "  mean: 0.98496, std: 0.03077, params: {'criterion': 'gini', 'max_depth': 5, 'max_features': 'auto', 'n_estimators': 20},\n",
       "  mean: 0.97744, std: 0.03051, params: {'criterion': 'gini', 'max_depth': 5, 'max_features': 'auto', 'n_estimators': 40},\n",
       "  mean: 0.98496, std: 0.01819, params: {'criterion': 'gini', 'max_depth': 5, 'max_features': 'auto', 'n_estimators': 80},\n",
       "  mean: 0.98496, std: 0.03077, params: {'criterion': 'gini', 'max_depth': 5, 'max_features': 'sqrt', 'n_estimators': 20},\n",
       "  mean: 0.97744, std: 0.03051, params: {'criterion': 'gini', 'max_depth': 5, 'max_features': 'sqrt', 'n_estimators': 40},\n",
       "  mean: 0.98496, std: 0.01819, params: {'criterion': 'gini', 'max_depth': 5, 'max_features': 'sqrt', 'n_estimators': 80},\n",
       "  mean: 0.98496, std: 0.03077, params: {'criterion': 'gini', 'max_depth': 5, 'max_features': 'log2', 'n_estimators': 20},\n",
       "  mean: 0.97744, std: 0.03051, params: {'criterion': 'gini', 'max_depth': 5, 'max_features': 'log2', 'n_estimators': 40},\n",
       "  mean: 0.98496, std: 0.01819, params: {'criterion': 'gini', 'max_depth': 5, 'max_features': 'log2', 'n_estimators': 80},\n",
       "  mean: 0.98496, std: 0.03077, params: {'criterion': 'gini', 'max_depth': 6, 'max_features': 'auto', 'n_estimators': 20},\n",
       "  mean: 0.97744, std: 0.03051, params: {'criterion': 'gini', 'max_depth': 6, 'max_features': 'auto', 'n_estimators': 40},\n",
       "  mean: 0.98496, std: 0.01819, params: {'criterion': 'gini', 'max_depth': 6, 'max_features': 'auto', 'n_estimators': 80},\n",
       "  mean: 0.98496, std: 0.03077, params: {'criterion': 'gini', 'max_depth': 6, 'max_features': 'sqrt', 'n_estimators': 20},\n",
       "  mean: 0.97744, std: 0.03051, params: {'criterion': 'gini', 'max_depth': 6, 'max_features': 'sqrt', 'n_estimators': 40},\n",
       "  mean: 0.98496, std: 0.01819, params: {'criterion': 'gini', 'max_depth': 6, 'max_features': 'sqrt', 'n_estimators': 80},\n",
       "  mean: 0.98496, std: 0.03077, params: {'criterion': 'gini', 'max_depth': 6, 'max_features': 'log2', 'n_estimators': 20},\n",
       "  mean: 0.97744, std: 0.03051, params: {'criterion': 'gini', 'max_depth': 6, 'max_features': 'log2', 'n_estimators': 40},\n",
       "  mean: 0.98496, std: 0.01819, params: {'criterion': 'gini', 'max_depth': 6, 'max_features': 'log2', 'n_estimators': 80},\n",
       "  mean: 0.96992, std: 0.02858, params: {'criterion': 'entropy', 'max_depth': 4, 'max_features': 'auto', 'n_estimators': 20},\n",
       "  mean: 0.96992, std: 0.02858, params: {'criterion': 'entropy', 'max_depth': 4, 'max_features': 'auto', 'n_estimators': 40},\n",
       "  mean: 0.98496, std: 0.01819, params: {'criterion': 'entropy', 'max_depth': 4, 'max_features': 'auto', 'n_estimators': 80},\n",
       "  mean: 0.96992, std: 0.02858, params: {'criterion': 'entropy', 'max_depth': 4, 'max_features': 'sqrt', 'n_estimators': 20},\n",
       "  mean: 0.96992, std: 0.02858, params: {'criterion': 'entropy', 'max_depth': 4, 'max_features': 'sqrt', 'n_estimators': 40},\n",
       "  mean: 0.98496, std: 0.01819, params: {'criterion': 'entropy', 'max_depth': 4, 'max_features': 'sqrt', 'n_estimators': 80},\n",
       "  mean: 0.96992, std: 0.02858, params: {'criterion': 'entropy', 'max_depth': 4, 'max_features': 'log2', 'n_estimators': 20},\n",
       "  mean: 0.96992, std: 0.02858, params: {'criterion': 'entropy', 'max_depth': 4, 'max_features': 'log2', 'n_estimators': 40},\n",
       "  mean: 0.98496, std: 0.01819, params: {'criterion': 'entropy', 'max_depth': 4, 'max_features': 'log2', 'n_estimators': 80},\n",
       "  mean: 0.97744, std: 0.03051, params: {'criterion': 'entropy', 'max_depth': 5, 'max_features': 'auto', 'n_estimators': 20},\n",
       "  mean: 0.96992, std: 0.02858, params: {'criterion': 'entropy', 'max_depth': 5, 'max_features': 'auto', 'n_estimators': 40},\n",
       "  mean: 0.97744, std: 0.03051, params: {'criterion': 'entropy', 'max_depth': 5, 'max_features': 'auto', 'n_estimators': 80},\n",
       "  mean: 0.97744, std: 0.03051, params: {'criterion': 'entropy', 'max_depth': 5, 'max_features': 'sqrt', 'n_estimators': 20},\n",
       "  mean: 0.96992, std: 0.02858, params: {'criterion': 'entropy', 'max_depth': 5, 'max_features': 'sqrt', 'n_estimators': 40},\n",
       "  mean: 0.97744, std: 0.03051, params: {'criterion': 'entropy', 'max_depth': 5, 'max_features': 'sqrt', 'n_estimators': 80},\n",
       "  mean: 0.97744, std: 0.03051, params: {'criterion': 'entropy', 'max_depth': 5, 'max_features': 'log2', 'n_estimators': 20},\n",
       "  mean: 0.96992, std: 0.02858, params: {'criterion': 'entropy', 'max_depth': 5, 'max_features': 'log2', 'n_estimators': 40},\n",
       "  mean: 0.97744, std: 0.03051, params: {'criterion': 'entropy', 'max_depth': 5, 'max_features': 'log2', 'n_estimators': 80},\n",
       "  mean: 0.97744, std: 0.03051, params: {'criterion': 'entropy', 'max_depth': 6, 'max_features': 'auto', 'n_estimators': 20},\n",
       "  mean: 0.96992, std: 0.02858, params: {'criterion': 'entropy', 'max_depth': 6, 'max_features': 'auto', 'n_estimators': 40},\n",
       "  mean: 0.98496, std: 0.01819, params: {'criterion': 'entropy', 'max_depth': 6, 'max_features': 'auto', 'n_estimators': 80},\n",
       "  mean: 0.97744, std: 0.03051, params: {'criterion': 'entropy', 'max_depth': 6, 'max_features': 'sqrt', 'n_estimators': 20},\n",
       "  mean: 0.96992, std: 0.02858, params: {'criterion': 'entropy', 'max_depth': 6, 'max_features': 'sqrt', 'n_estimators': 40},\n",
       "  mean: 0.98496, std: 0.01819, params: {'criterion': 'entropy', 'max_depth': 6, 'max_features': 'sqrt', 'n_estimators': 80},\n",
       "  mean: 0.97744, std: 0.03051, params: {'criterion': 'entropy', 'max_depth': 6, 'max_features': 'log2', 'n_estimators': 20},\n",
       "  mean: 0.96992, std: 0.02858, params: {'criterion': 'entropy', 'max_depth': 6, 'max_features': 'log2', 'n_estimators': 40},\n",
       "  mean: 0.98496, std: 0.01819, params: {'criterion': 'entropy', 'max_depth': 6, 'max_features': 'log2', 'n_estimators': 80}],\n",
       " {'criterion': 'gini',\n",
       "  'max_depth': 4,\n",
       "  'max_features': 'auto',\n",
       "  'n_estimators': 80},\n",
       " 0.9849624060150376)"
      ]
     },
     "execution_count": 46,
     "metadata": {},
     "output_type": "execute_result"
    }
   ],
   "source": [
    "CV_rfc = GridSearchCV(estimator=rfc, param_grid=param_grid, cv= 5)\n",
    "CV_rfc.fit(x_train, y_train)\n",
    "\n",
    "CV_rfc.grid_scores_, CV_rfc.best_params_, CV_rfc.best_score_"
   ]
  },
  {
   "cell_type": "code",
   "execution_count": 40,
   "metadata": {},
   "outputs": [],
   "source": [
    "clf = RandomForestClassifier(criterion = 'gini', n_estimators=80, max_depth=4, random_state=4, max_features='auto')\n",
    "\n",
    "# 訓練模型\n",
    "clf.fit(x_train, y_train)\n",
    "\n",
    "# 預測測試集\n",
    "y_pred = clf.predict(x_test)"
   ]
  },
  {
   "cell_type": "code",
   "execution_count": 41,
   "metadata": {},
   "outputs": [
    {
     "name": "stdout",
     "output_type": "stream",
     "text": [
      "Accuracy:  0.9777777777777777\n"
     ]
    }
   ],
   "source": [
    "acc = metrics.accuracy_score(y_test, y_pred)\n",
    "print(\"Accuracy: \", acc)\n"
   ]
  },
  {
   "cell_type": "code",
   "execution_count": 37,
   "metadata": {},
   "outputs": [
    {
     "name": "stdout",
     "output_type": "stream",
     "text": [
      "['alcohol', 'malic_acid', 'ash', 'alcalinity_of_ash', 'magnesium', 'total_phenols', 'flavanoids', 'nonflavanoid_phenols', 'proanthocyanins', 'color_intensity', 'hue', 'od280/od315_of_diluted_wines', 'proline']\n"
     ]
    }
   ],
   "source": [
    "print(wine.feature_names)"
   ]
  },
  {
   "cell_type": "code",
   "execution_count": 30,
   "metadata": {},
   "outputs": [
    {
     "name": "stdout",
     "output_type": "stream",
     "text": [
      "Feature importance:  [0.10219404 0.02107074 0.01367066 0.03859629 0.0361518  0.04222741\n",
      " 0.13606971 0.00542026 0.02855627 0.18159219 0.09215751 0.11982945\n",
      " 0.18246366]\n",
      "Feature importance:  [0.14393897 0.03768571 0.01219289 0.02093014 0.03717667 0.06011896\n",
      " 0.10834921 0.01118632 0.02203742 0.15209724 0.08757293 0.12705769\n",
      " 0.17965585]\n",
      "Feature importance:  [0.11333413 0.02775747 0.01299894 0.03334673 0.03016392 0.05286887\n",
      " 0.11439459 0.0092027  0.02690833 0.1841304  0.0791946  0.13704421\n",
      " 0.1786551 ]\n"
     ]
    }
   ],
   "source": [
    "print(\"Feature importance: \", clf.feature_importances_)\n",
    "\n",
    "print(\"Feature importance: \", clf2.feature_importances_)\n",
    "\n",
    "print(\"Feature importance: \", clf3.feature_importances_)"
   ]
  },
  {
   "cell_type": "code",
   "execution_count": null,
   "metadata": {},
   "outputs": [],
   "source": []
  }
 ],
 "metadata": {
  "kernelspec": {
   "display_name": "Python 3",
   "language": "python",
   "name": "python3"
  },
  "language_info": {
   "codemirror_mode": {
    "name": "ipython",
    "version": 3
   },
   "file_extension": ".py",
   "mimetype": "text/x-python",
   "name": "python",
   "nbconvert_exporter": "python",
   "pygments_lexer": "ipython3",
   "version": "3.7.0"
  },
  "toc": {
   "base_numbering": 1,
   "nav_menu": {},
   "number_sections": true,
   "sideBar": true,
   "skip_h1_title": false,
   "title_cell": "Table of Contents",
   "title_sidebar": "Contents",
   "toc_cell": false,
   "toc_position": {},
   "toc_section_display": true,
   "toc_window_display": false
  },
  "varInspector": {
   "cols": {
    "lenName": 16,
    "lenType": 16,
    "lenVar": 40
   },
   "kernels_config": {
    "python": {
     "delete_cmd_postfix": "",
     "delete_cmd_prefix": "del ",
     "library": "var_list.py",
     "varRefreshCmd": "print(var_dic_list())"
    },
    "r": {
     "delete_cmd_postfix": ") ",
     "delete_cmd_prefix": "rm(",
     "library": "var_list.r",
     "varRefreshCmd": "cat(var_dic_list()) "
    }
   },
   "types_to_exclude": [
    "module",
    "function",
    "builtin_function_or_method",
    "instance",
    "_Feature"
   ],
   "window_display": false
  }
 },
 "nbformat": 4,
 "nbformat_minor": 2
}
